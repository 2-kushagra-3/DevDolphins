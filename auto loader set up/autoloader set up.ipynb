{
 "cells": [
  {
   "cell_type": "code",
   "execution_count": 0,
   "metadata": {
    "application/vnd.databricks.v1+cell": {
     "cellMetadata": {
      "byteLimit": 2048000,
      "rowLimit": 10000
     },
     "inputWidgets": {},
     "nuid": "8ead17d5-fd91-44e7-82ae-409536730e53",
     "showTitle": false,
     "tableResultSettingsMap": {},
     "title": ""
    }
   },
   "outputs": [],
   "source": [
    "from pyspark.sql.functions import input_file_name\n",
    "import psycopg2"
   ]
  },
  {
   "cell_type": "code",
   "execution_count": 0,
   "metadata": {
    "application/vnd.databricks.v1+cell": {
     "cellMetadata": {
      "byteLimit": 2048000,
      "rowLimit": 10000
     },
     "inputWidgets": {},
     "nuid": "d1f3fd62-b3f7-45d2-9952-5a77cc4d0bf6",
     "showTitle": false,
     "tableResultSettingsMap": {},
     "title": ""
    }
   },
   "outputs": [],
   "source": [
    "source_path = \"abfss://gdrive-ingest@devdolphinstorage.dfs.core.windows.net/transactions\"\n",
    "\n",
    "# Schema log location (must be unique if you clear it!)\n",
    "schema_location = \"abfss://gdrive-ingest@devdolphinstorage.dfs.core.windows.net/_schema_log/transactions\"\n",
    "\n",
    "# Checkpoint location for streaming\n",
    "checkpoint_location = \"abfss://gdrive-ingest@devdolphinstorage.dfs.core.windows.net/_checkpoint/transactions\"\n"
   ]
  },
  {
   "cell_type": "code",
   "execution_count": 0,
   "metadata": {
    "application/vnd.databricks.v1+cell": {
     "cellMetadata": {
      "byteLimit": 2048000,
      "rowLimit": 10000
     },
     "inputWidgets": {},
     "nuid": "82cdac35-6459-4751-8f80-1e5b09feff87",
     "showTitle": false,
     "tableResultSettingsMap": {},
     "title": ""
    }
   },
   "outputs": [],
   "source": [
    "pg_host = \"devdolphinpostgresdb.postgres.database.azure.com\"\n",
    "pg_db = \"postgres\"\n",
    "pg_user = dbutils.secrets.get(scope=\"devDolphin\", key=\"kushagra\")\n",
    "pg_pass = dbutils.secrets.get(scope=\"devDolphin\", key=\"pg-password\")\n"
   ]
  },
  {
   "cell_type": "code",
   "execution_count": 0,
   "metadata": {
    "application/vnd.databricks.v1+cell": {
     "cellMetadata": {
      "byteLimit": 2048000,
      "rowLimit": 10000
     },
     "inputWidgets": {},
     "nuid": "39029b58-cfa6-4f58-b03e-81ada403e9d8",
     "showTitle": false,
     "tableResultSettingsMap": {},
     "title": ""
    }
   },
   "outputs": [],
   "source": [
    "def upsert_to_postgres(batch_df, batch_id):\n",
    "    print(f\"🔄 Processing batch_id: {batch_id}\")\n",
    "\n",
    "    # Example: aggregate merchant txn counts\n",
    "    agg_df = (\n",
    "        batch_df.groupBy(\"merchant\")\n",
    "        .count()\n",
    "        .withColumnRenamed(\"count\", \"total_txn\")\n",
    "    )\n",
    "\n",
    "    rows = agg_df.collect()\n",
    "\n",
    "    if not rows:\n",
    "        print(\"⚠️  No rows to upsert this batch.\")\n",
    "        return\n",
    "\n",
    "    conn = psycopg2.connect(\n",
    "        host=pg_host,\n",
    "        dbname=pg_db,\n",
    "        user=pg_user,\n",
    "        password=pg_pass,\n",
    "        sslmode=\"require\"\n",
    "    )\n",
    "\n",
    "    cur = conn.cursor()\n",
    "\n",
    "    for row in rows:\n",
    "        merchant = row[\"merchant\"]\n",
    "        total_txn = row[\"total_txn\"]\n",
    "\n",
    "        cur.execute(\"\"\"\n",
    "            INSERT INTO merchant_txn_state (merchant, total_txn)\n",
    "            VALUES (%s, %s)\n",
    "            ON CONFLICT (merchant)\n",
    "            DO UPDATE SET total_txn = EXCLUDED.total_txn;\n",
    "        \"\"\", (merchant, total_txn))\n",
    "\n",
    "    conn.commit()\n",
    "    cur.close()\n",
    "    conn.close()\n",
    "\n",
    "    print(f\"✅ Upserted {len(rows)} rows to Postgres.\")"
   ]
  },
  {
   "cell_type": "code",
   "execution_count": 0,
   "metadata": {
    "application/vnd.databricks.v1+cell": {
     "cellMetadata": {
      "byteLimit": 2048000,
      "rowLimit": 10000
     },
     "inputWidgets": {},
     "nuid": "a40cdbe8-24c8-47ad-abc2-1e18494c4603",
     "showTitle": false,
     "tableResultSettingsMap": {},
     "title": ""
    }
   },
   "outputs": [],
   "source": [
    "\n",
    "df = (\n",
    "  spark.readStream\n",
    "  .format(\"cloudFiles\")\n",
    "  .option(\"cloudFiles.format\", \"csv\")\n",
    "  .option(\"header\", \"true\")\n",
    "  .option(\"cloudFiles.inferColumnTypes\", \"true\")\n",
    "  .option(\"cloudFiles.schemaLocation\", schema_location)\n",
    "  .load(source_path)\n",
    "  .withColumn(\"source_file\", input_file_name())\n",
    ")\n",
    "\n",
    "df.printSchema()\n"
   ]
  },
  {
   "cell_type": "code",
   "execution_count": 0,
   "metadata": {
    "application/vnd.databricks.v1+cell": {
     "cellMetadata": {
      "byteLimit": 2048000,
      "rowLimit": 10000
     },
     "inputWidgets": {},
     "nuid": "61aacd84-f939-41bb-bf42-a93590bd7666",
     "showTitle": false,
     "tableResultSettingsMap": {},
     "title": ""
    }
   },
   "outputs": [],
   "source": [
    "query = (\n",
    "  df.writeStream\n",
    "  .foreachBatch(upsert_to_postgres)\n",
    "  .option(\"checkpointLocation\", checkpoint_location)\n",
    "  .start()\n",
    ")\n",
    "\n",
    "query.awaitTermination()"
   ]
  },
  {
   "cell_type": "code",
   "execution_count": 0,
   "metadata": {
    "application/vnd.databricks.v1+cell": {
     "cellMetadata": {
      "byteLimit": 2048000,
      "rowLimit": 10000
     },
     "inputWidgets": {},
     "nuid": "49f9dab1-7f5c-42c4-b0db-15be49d25cdd",
     "showTitle": false,
     "tableResultSettingsMap": {},
     "title": ""
    }
   },
   "outputs": [],
   "source": [
    "def inspect_batch(batch_df, batch_id):\n",
    "    print(f\"🔍 New batch {batch_id}\")\n",
    "    print(f\"Rows: {batch_df.count()}\")\n",
    "    display(batch_df)\n",
    "\n",
    "query = (\n",
    "  df.writeStream\n",
    "    .foreachBatch(inspect_batch)\n",
    "    .option(\"checkpointLocation\", \"<your-checkpoint-path>\")\n",
    "    .start()\n",
    ")\n",
    "\n",
    "query.awaitTermination()\n"
   ]
  },
  {
   "cell_type": "code",
   "execution_count": 0,
   "metadata": {
    "application/vnd.databricks.v1+cell": {
     "cellMetadata": {},
     "inputWidgets": {},
     "nuid": "aae282c8-b33d-4339-a875-2b618149a44b",
     "showTitle": false,
     "tableResultSettingsMap": {},
     "title": ""
    }
   },
   "outputs": [],
   "source": []
  }
 ],
 "metadata": {
  "application/vnd.databricks.v1+notebook": {
   "computePreferences": null,
   "dashboards": [],
   "environmentMetadata": {
    "base_environment": "",
    "environment_version": "2"
   },
   "inputWidgetPreferences": null,
   "language": "python",
   "notebookMetadata": {
    "pythonIndentUnit": 4
   },
   "notebookName": "autoloader set up",
   "widgets": {}
  },
  "language_info": {
   "name": "python"
  }
 },
 "nbformat": 4,
 "nbformat_minor": 0
}
