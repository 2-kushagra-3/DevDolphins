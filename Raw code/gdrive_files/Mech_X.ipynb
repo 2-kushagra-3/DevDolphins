{
 "cells": [
  {
   "cell_type": "code",
   "execution_count": null,
   "id": "8fb50d56",
   "metadata": {},
   "outputs": [],
   "source": [
    "%pip install google-api-python-client google-auth-httplib2 google-auth-oauthlib"
   ]
  },
  {
   "cell_type": "code",
   "execution_count": null,
   "id": "49b54d7b",
   "metadata": {},
   "outputs": [],
   "source": [
    "spark.conf.set(\n",
    "    \"fs.azure.account.key.devdolphinstorage.dfs.core.windows.net\", \n",
    "    \"key\"\n",
    ")\n"
   ]
  },
  {
   "cell_type": "code",
   "execution_count": null,
   "id": "ab92fa11",
   "metadata": {},
   "outputs": [],
   "source": [
    "from google.oauth2 import service_account\n",
    "from googleapiclient.discovery import build\n",
    "from googleapiclient.http import MediaIoBaseDownload\n",
    "import io\n",
    "import os\n",
    "import pandas as pd"
   ]
  },
  {
   "cell_type": "code",
   "execution_count": null,
   "id": "f3ca8bbb",
   "metadata": {},
   "outputs": [],
   "source": [
    "service_account_file = \"\""
   ]
  },
  {
   "cell_type": "code",
   "execution_count": null,
   "id": "df5671ed",
   "metadata": {},
   "outputs": [],
   "source": [
    "# Step 1: Setup GDrive connection (already shared)\n",
    "creds = service_account.Credentials.from_service_account_file(\n",
    "        service_account_file,\n",
    "        scopes=[\"https://www.googleapis.com/auth/drive\"]\n",
    "    )\n",
    "service = build('drive', 'v3', credentials=creds)\n",
    "\n",
    "# Step 2: Define your folder and filenames\n",
    "folder_id = \"1qryhdlgNsmecWRy2haI8S3uC63wKk5X-\"\n",
    "transactions_file = \"transactions.csv\"\n",
    "customer_file = \"CustomerImportance.csv\"\n",
    "\n",
    "# Step 3: Download both files\n",
    "def read_csv_from_gdrive(service, file_id):\n",
    "    request = service.files().get_media(fileId=file_id)\n",
    "    file_buffer = io.BytesIO()\n",
    "    downloader = MediaIoBaseDownload(file_buffer, request)\n",
    "    done = False\n",
    "    while not done:\n",
    "        _, done = downloader.next_chunk()\n",
    "    file_buffer.seek(0)\n",
    "    pandas_df = pd.read_csv(file_buffer)\n",
    "    return spark.createDataFrame(pandas_df)\n",
    "\n",
    "# Get file IDs\n",
    "transactions_id = get_file_id(service, folder_id, transactions_file)\n",
    "customer_id = get_file_id(service, folder_id, customer_file)\n",
    "\n",
    "# Read as PySpark DataFrames\n",
    "transactions_df = read_csv_from_gdrive(service, transactions_id)\n",
    "customer_df = read_csv_from_gdrive(service, customer_id)"
   ]
  }
 ],
 "metadata": {
  "language_info": {
   "name": "python"
  }
 },
 "nbformat": 4,
 "nbformat_minor": 5
}
