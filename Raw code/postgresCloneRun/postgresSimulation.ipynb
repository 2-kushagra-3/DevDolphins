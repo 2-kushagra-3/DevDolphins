{
 "cells": [
  {
   "cell_type": "code",
   "execution_count": 1,
   "id": "ed40883f",
   "metadata": {},
   "outputs": [],
   "source": [
    "import pandas as pd\n",
    "\n",
    "# 1. Merchant-level transaction state\n",
    "merchant_txn_summary_df = pd.DataFrame(columns=[\"merchant\", \"total_txn_count\", \"total_txn_amount\"])\n",
    "\n",
    "# 2. Customer-Merchant-level state\n",
    "customer_merchant_summary_df = pd.DataFrame(columns=[\"merchant\", \"customer\", \"txn_count\", \"total_amount\", \"avg_amount\"])\n",
    "\n",
    "# 3. Merchant-gender state\n",
    "merchant_gender_counts_df = pd.DataFrame(columns=[\"merchant\", \"female_count\", \"male_count\"])\n",
    "\n",
    "# 4. Detection accumulator\n",
    "detections_df = pd.DataFrame(columns=[\n",
    "    \"YStartTime\", \"detectionTime\", \"patternId\", \"ActionType\", \"customerName\", \"merchantId\"\n",
    "])\n"
   ]
  },
  {
   "cell_type": "code",
   "execution_count": 2,
   "id": "92fa0d04",
   "metadata": {},
   "outputs": [],
   "source": [
    "from datetime import datetime\n",
    "import pytz\n",
    "\n",
    "IST = pytz.timezone('Asia/Kolkata')\n",
    "YStartTime = datetime.now(IST).strftime(\"%Y-%m-%d %H:%M:%S\")\n",
    "\n",
    "def get_detection_time():\n",
    "    return datetime.now(IST).strftime(\"%Y-%m-%d %H:%M:%S\")\n"
   ]
  },
  {
   "cell_type": "code",
   "execution_count": 3,
   "id": "07e8f12b",
   "metadata": {},
   "outputs": [],
   "source": [
    "def update_merchant_txn_summary(chunk_df):\n",
    "    global merchant_txn_summary_df\n",
    "\n",
    "    summary = (\n",
    "        chunk_df.groupby(\"merchant\")[\"amount\"]\n",
    "        .agg(total_txn_count=\"count\", total_txn_amount=\"sum\")\n",
    "        .reset_index()\n",
    "    )\n",
    "\n",
    "    merchant_txn_summary_df = pd.concat([merchant_txn_summary_df, summary])\n",
    "    merchant_txn_summary_df = (\n",
    "        merchant_txn_summary_df\n",
    "        .groupby(\"merchant\", as_index=False)\n",
    "        .agg({\"total_txn_count\": \"sum\", \"total_txn_amount\": \"sum\"})\n",
    "    )"
   ]
  },
  {
   "cell_type": "code",
   "execution_count": 4,
   "id": "9fca2e4a",
   "metadata": {},
   "outputs": [],
   "source": [
    "def update_customer_merchant_summary(chunk_df):\n",
    "    global customer_merchant_summary_df\n",
    "\n",
    "    summary = (\n",
    "        chunk_df.groupby([\"merchant\", \"customer\"])[\"amount\"]\n",
    "        .agg(txn_count=\"count\", total_amount=\"sum\")\n",
    "        .reset_index()\n",
    "    )\n",
    "    summary[\"avg_amount\"] = summary[\"total_amount\"] / summary[\"txn_count\"]\n",
    "\n",
    "    customer_merchant_summary_df = pd.concat([customer_merchant_summary_df, summary])\n",
    "    customer_merchant_summary_df = (\n",
    "        customer_merchant_summary_df\n",
    "        .groupby([\"merchant\", \"customer\"], as_index=False)\n",
    "        .agg({\n",
    "            \"txn_count\": \"sum\",\n",
    "            \"total_amount\": \"sum\"\n",
    "        })\n",
    "    )\n",
    "    customer_merchant_summary_df[\"avg_amount\"] = (\n",
    "        customer_merchant_summary_df[\"total_amount\"] / customer_merchant_summary_df[\"txn_count\"]\n",
    "    )\n"
   ]
  },
  {
   "cell_type": "code",
   "execution_count": 5,
   "id": "bd854bb4",
   "metadata": {},
   "outputs": [],
   "source": [
    "def update_merchant_gender_counts(chunk_df):\n",
    "    global merchant_gender_counts_df\n",
    "\n",
    "    gender_summary = (\n",
    "        chunk_df[chunk_df[\"gender\"].isin([\"F\", \"M\"])]\n",
    "        .groupby([\"merchant\", \"gender\"])[\"customer\"]\n",
    "        .nunique()\n",
    "        .unstack(fill_value=0)\n",
    "        .reset_index()\n",
    "    )\n",
    "    gender_summary.columns.name = None\n",
    "    gender_summary = gender_summary.rename(columns={\"F\": \"female_count\", \"M\": \"male_count\"})\n",
    "\n",
    "    merchant_gender_counts_df = pd.concat([merchant_gender_counts_df, gender_summary])\n",
    "    merchant_gender_counts_df = (\n",
    "        merchant_gender_counts_df\n",
    "        .groupby(\"merchant\", as_index=False)\n",
    "        .agg({\"female_count\": \"sum\", \"male_count\": \"sum\"})\n",
    "    )\n"
   ]
  },
  {
   "cell_type": "code",
   "execution_count": 6,
   "id": "b83aa7b7",
   "metadata": {},
   "outputs": [],
   "source": [
    "def process_chunk(chunk_df):\n",
    "    # 1. Update intermediate state tables\n",
    "    update_merchant_txn_summary(chunk_df)\n",
    "    update_customer_merchant_summary(chunk_df)\n",
    "    update_merchant_gender_counts(chunk_df)\n",
    "\n",
    "    # 2. Call pattern detectors (to be plugged in next)\n",
    "    detect_patterns(chunk_df)\n"
   ]
  },
  {
   "cell_type": "code",
   "execution_count": null,
   "id": "847154ec",
   "metadata": {},
   "outputs": [],
   "source": []
  }
 ],
 "metadata": {
  "kernelspec": {
   "display_name": "Python 3",
   "language": "python",
   "name": "python3"
  },
  "language_info": {
   "codemirror_mode": {
    "name": "ipython",
    "version": 3
   },
   "file_extension": ".py",
   "mimetype": "text/x-python",
   "name": "python",
   "nbconvert_exporter": "python",
   "pygments_lexer": "ipython3",
   "version": "3.12.4"
  }
 },
 "nbformat": 4,
 "nbformat_minor": 5
}
