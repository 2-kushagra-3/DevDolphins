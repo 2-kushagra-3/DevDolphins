{
 "cells": [
  {
   "cell_type": "code",
   "execution_count": null,
   "metadata": {},
   "outputs": [],
   "source": [
    "pip install google-api-python-client google-auth google-auth-httplib2 google-auth-oauthlib\n"
   ]
  },
  {
   "cell_type": "code",
   "execution_count": 3,
   "metadata": {},
   "outputs": [],
   "source": [
    "from google.oauth2 import service_account\n",
    "from googleapiclient.discovery import build\n",
    "from googleapiclient.http import MediaIoBaseDownload\n",
    "import io\n",
    "import os\n",
    "\n",
    "def download_from_drive(service_account_file, folder_id, output_dir):\n",
    "    creds = service_account.Credentials.from_service_account_file(\n",
    "        service_account_file,\n",
    "        scopes=[\"https://www.googleapis.com/auth/drive\"]\n",
    "    )\n",
    "    service = build(\"drive\", \"v3\", credentials=creds)\n",
    "\n",
    "    query = f\"'{folder_id}' in parents and trashed=false\"\n",
    "    results = service.files().list(q=query, fields=\"files(id, name)\").execute()\n",
    "\n",
    "    os.makedirs(output_dir, exist_ok=True)\n",
    "\n",
    "    for file in results.get(\"files\", []):\n",
    "        request = service.files().get_media(fileId=file[\"id\"])\n",
    "        fh = io.FileIO(os.path.join(output_dir, file[\"name\"]), 'wb')\n",
    "        downloader = MediaIoBaseDownload(fh, request)\n",
    "\n",
    "        done = False\n",
    "        while not done:\n",
    "            _, done = downloader.next_chunk()\n",
    "        print(f\"Downloaded: {file['name']}\")\n"
   ]
  },
  {
   "cell_type": "code",
   "execution_count": null,
   "metadata": {},
   "outputs": [
    {
     "name": "stdout",
     "output_type": "stream",
     "text": [
      "Downloaded: CustomerImportance.csv\n",
      "Downloaded: transactions.csv\n"
     ]
    }
   ],
   "source": [
    "if __name__ == \"__main__\":\n",
    "    download_from_drive(\n",
    "        service_account_file = r\"\",\n",
    "        folder_id=\"\",\n",
    "        output_dir=\"./gdrive_files\"\n",
    "    )\n"
   ]
  },
  {
   "cell_type": "code",
   "execution_count": null,
   "metadata": {},
   "outputs": [],
   "source": []
  }
 ],
 "metadata": {
  "kernelspec": {
   "display_name": "Python 3",
   "language": "python",
   "name": "python3"
  },
  "language_info": {
   "codemirror_mode": {
    "name": "ipython",
    "version": 3
   },
   "file_extension": ".py",
   "mimetype": "text/x-python",
   "name": "python",
   "nbconvert_exporter": "python",
   "pygments_lexer": "ipython3",
   "version": "3.12.4"
  }
 },
 "nbformat": 4,
 "nbformat_minor": 2
}
