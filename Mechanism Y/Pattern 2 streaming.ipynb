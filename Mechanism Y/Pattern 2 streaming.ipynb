{
 "cells": [
  {
   "cell_type": "code",
   "execution_count": 0,
   "metadata": {
    "application/vnd.databricks.v1+cell": {
     "cellMetadata": {},
     "inputWidgets": {},
     "nuid": "337e62de-b57b-4eda-b211-c1827d8b2fe1",
     "showTitle": false,
     "tableResultSettingsMap": {},
     "title": ""
    }
   },
   "outputs": [],
   "source": [
    "from pyspark.sql import SparkSession, functions as F\n",
    "from datetime import datetime\n"
   ]
  },
  {
   "cell_type": "code",
   "execution_count": 0,
   "metadata": {
    "application/vnd.databricks.v1+cell": {
     "cellMetadata": {},
     "inputWidgets": {},
     "nuid": "308ed2b7-f666-43f7-a8e1-021d1dc2238d",
     "showTitle": false,
     "tableResultSettingsMap": {},
     "title": ""
    }
   },
   "outputs": [],
   "source": [
    "jdbc_url = \"\"\n",
    "jdbc_props = {\n",
    "    \"user\": \"\",\n",
    "    \"password\": \"\",\n",
    "    \"driver\": \"org.postgresql.Driver\"\n",
    "}"
   ]
  },
  {
   "cell_type": "code",
   "execution_count": 0,
   "metadata": {
    "application/vnd.databricks.v1+cell": {
     "cellMetadata": {},
     "inputWidgets": {},
     "nuid": "0ed83dfe-2ce4-4454-9a69-a37c56845c49",
     "showTitle": false,
     "tableResultSettingsMap": {},
     "title": ""
    }
   },
   "outputs": [],
   "source": [
    "customer_merchant_amount_df = None\n",
    "already_detected_pat2 = set()\n"
   ]
  },
  {
   "cell_type": "code",
   "execution_count": 0,
   "metadata": {
    "application/vnd.databricks.v1+cell": {
     "cellMetadata": {},
     "inputWidgets": {},
     "nuid": "dca78ce5-2435-4d3a-b260-516c7f907a4d",
     "showTitle": false,
     "tableResultSettingsMap": {},
     "title": ""
    }
   },
   "outputs": [],
   "source": [
    "input_dir = \"abfss://gdrive-ingest@devdolphinstorage.dfs.core.windows.net/transactions/\"\n",
    "schema_location = \"abfss://gdrive-ingest@devdolphinstorage.dfs.core.windows.net/schema/ChunksSchemaPat2/\"\n",
    "\n",
    "streaming_df = (\n",
    "    spark.readStream\n",
    "    .format(\"cloudFiles\")\n",
    "    .option(\"cloudFiles.format\", \"csv\")\n",
    "    .option(\"header\", \"true\")\n",
    "    .option(\"cloudFiles.schemaLocation\", schema_location)\n",
    "    .load(input_dir)\n",
    ")\n"
   ]
  },
  {
   "cell_type": "code",
   "execution_count": 0,
   "metadata": {
    "application/vnd.databricks.v1+cell": {
     "cellMetadata": {},
     "inputWidgets": {},
     "nuid": "71a84883-97dc-4add-bbf6-90195399f6ca",
     "showTitle": false,
     "tableResultSettingsMap": {},
     "title": ""
    }
   },
   "outputs": [],
   "source": [
    "def foreach_batch_function(batch_df, batch_id):\n",
    "    global customer_merchant_amount_df, already_detected_pat2\n",
    "\n",
    "    print(f\"\\n Processing batch {batch_id} rows: {batch_df.count()}\")\n",
    "\n",
    "    batch_df = batch_df.withColumn(\"amount\", F.col(\"amount\").cast(\"double\"))\n",
    "\n",
    "    # Step 1: Aggregate stats from this chunk\n",
    "    stats = (\n",
    "        batch_df.groupBy(\"customer\", \"merchant\")\n",
    "        .agg(\n",
    "            F.count(\"*\").alias(\"txn_count\"),\n",
    "            F.sum(\"amount\").alias(\"total_amount\")\n",
    "        )\n",
    "    )\n",
    "\n",
    "    # Step 2: Update rolling state\n",
    "    if customer_merchant_amount_df is None:\n",
    "        customer_merchant_amount_df = stats\n",
    "    else:\n",
    "        combined = customer_merchant_amount_df.union(stats)\n",
    "        customer_merchant_amount_df = (\n",
    "            combined.groupBy(\"customer\", \"merchant\")\n",
    "            .agg(\n",
    "                F.sum(\"txn_count\").alias(\"txn_count\"),\n",
    "                F.sum(\"total_amount\").alias(\"total_amount\")\n",
    "            )\n",
    "        )\n",
    "\n",
    "    print(f\" Updated state rows: {customer_merchant_amount_df.count()}\")\n",
    "\n",
    "    # Step 3: Apply Pattern 2 rules\n",
    "    result_df = (\n",
    "        customer_merchant_amount_df\n",
    "        .withColumn(\"avg_amount\", F.col(\"total_amount\") / F.col(\"txn_count\"))\n",
    "        .filter((F.col(\"txn_count\") >= 80) & (F.col(\"avg_amount\") < 23))\n",
    "    )\n",
    "\n",
    "    # Remove already detected\n",
    "    new_result_df = result_df.filter(~F.concat_ws(\"|\", \"customer\", \"merchant\").isin(already_detected_pat2))\n",
    "\n",
    "    # If any new detections\n",
    "    if new_result_df.count() > 0:\n",
    "        now = datetime.now().strftime(\"%Y-%m-%d %H:%M:%S\")\n",
    "\n",
    "        detections_df = (\n",
    "            new_result_df\n",
    "            .withColumn(\"YStartTime\", F.current_timestamp())\n",
    "            .withColumn(\"detectionTime\", F.current_timestamp())\n",
    "            .withColumn(\"patternId\", F.lit(\"PatId2\"))\n",
    "            .withColumn(\"ActionType\", F.lit(\"CHILD\"))\n",
    "            .withColumnRenamed(\"customer\", \"customerName\")\n",
    "            .withColumnRenamed(\"merchant\", \"MerchantId\")\n",
    "            .select(\"YStartTime\", \"detectionTime\", \"patternId\", \"ActionType\", \"customerName\", \"MerchantId\", \"txn_count\")\n",
    "        )\n",
    "\n",
    "        detections_df.show(truncate=False)\n",
    "\n",
    "        detections_df.write.jdbc(jdbc_url, \"already_detected_pat2\", mode=\"append\", properties=jdbc_props)\n",
    "\n",
    "        # Mark these as detected\n",
    "        new_keys = new_result_df.select(F.concat_ws(\"|\", \"customer\", \"merchant\")).distinct().collect()\n",
    "        already_detected_pat2.update([row[0] for row in new_keys])\n",
    "\n",
    "        print(f\" New detections saved: {len(new_keys)}\")\n",
    "    else:\n",
    "        print(\"No new detections this batch.\")\n",
    "\n",
    "\n"
   ]
  },
  {
   "cell_type": "code",
   "execution_count": 0,
   "metadata": {
    "application/vnd.databricks.v1+cell": {
     "cellMetadata": {},
     "inputWidgets": {},
     "nuid": "11028f05-80b7-433a-a3a1-9e3ae24754fc",
     "showTitle": false,
     "tableResultSettingsMap": {},
     "title": ""
    }
   },
   "outputs": [],
   "source": [
    "\n",
    "query = (\n",
    "    streaming_df.writeStream\n",
    "    .foreachBatch(foreach_batch_function)\n",
    "    .outputMode(\"append\")\n",
    "    .option(\"checkpointLocation\", \"abfss://gdrive-ingest@devdolphinstorage.dfs.core.windows.net/schema/checkpoint/\")\n",
    "    .start()\n",
    ")\n",
    "\n",
    "query.awaitTermination()"
   ]
  }
 ],
 "metadata": {
  "application/vnd.databricks.v1+notebook": {
   "computePreferences": null,
   "dashboards": [],
   "environmentMetadata": {
    "base_environment": "",
    "environment_version": "2"
   },
   "inputWidgetPreferences": null,
   "language": "python",
   "notebookMetadata": {
    "pythonIndentUnit": 4
   },
   "notebookName": "Pattern 2 streaming",
   "widgets": {}
  },
  "language_info": {
   "name": "python"
  }
 },
 "nbformat": 4,
 "nbformat_minor": 0
}
