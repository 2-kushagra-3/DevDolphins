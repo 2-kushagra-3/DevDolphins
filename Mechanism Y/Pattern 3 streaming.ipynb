{
 "cells": [
  {
   "cell_type": "code",
   "execution_count": 0,
   "metadata": {
    "application/vnd.databricks.v1+cell": {
     "cellMetadata": {},
     "inputWidgets": {},
     "nuid": "ca21c9c6-04e3-4bfc-bc28-2c84009869dc",
     "showTitle": false,
     "tableResultSettingsMap": {},
     "title": ""
    }
   },
   "outputs": [],
   "source": [
    "from pyspark.sql import SparkSession, functions as F\n",
    "from datetime import datetime\n",
    "\n",
    "\n",
    "\n",
    "# In-memory Spark DataFrame to hold the running gender summary\n",
    "gender_summary_df = None\n",
    "\n",
    "# Merchants already detected\n",
    "already_detected_pat3 = set()\n"
   ]
  },
  {
   "cell_type": "code",
   "execution_count": 0,
   "metadata": {
    "application/vnd.databricks.v1+cell": {
     "cellMetadata": {},
     "inputWidgets": {},
     "nuid": "13b8bd70-739b-41e7-bfa4-279d8624e46c",
     "showTitle": false,
     "tableResultSettingsMap": {},
     "title": ""
    }
   },
   "outputs": [],
   "source": [
    "streaming_df = (\n",
    "    spark.readStream\n",
    "    .format(\"cloudFiles\")\n",
    "    .option(\"cloudFiles.format\", \"csv\")\n",
    "    .option(\"header\", \"true\")\n",
    "    .option(\"cloudFiles.schemaLocation\", \"abfss://gdrive-ingest@devdolphinstorage.dfs.core.windows.net/schema/ChunksSchema/\")\n",
    "    .load(\"abfss://gdrive-ingest@devdolphinstorage.dfs.core.windows.net/transactions/\")\n",
    ")"
   ]
  },
  {
   "cell_type": "code",
   "execution_count": 0,
   "metadata": {
    "application/vnd.databricks.v1+cell": {
     "cellMetadata": {},
     "inputWidgets": {},
     "nuid": "7d5d4bbb-9c0f-49d5-a86d-a12706b1bac7",
     "showTitle": false,
     "tableResultSettingsMap": {},
     "title": ""
    }
   },
   "outputs": [],
   "source": [
    "def foreach_batch_function(batch_df, batch_id):\n",
    "    global gender_summary_df, already_detected_pat3\n",
    "\n",
    "    print(f\"\\n⚡ Processing batch {batch_id} rows: {batch_df.count()}\")\n",
    "\n",
    "    # Clean gender column\n",
    "    cleaned = (\n",
    "        batch_df.withColumn(\"gender\", F.upper(F.trim(F.regexp_replace(\"gender\", \"'\", \"\"))))\n",
    "        .select(\"merchant\", \"customer\", \"gender\")\n",
    "        .dropna()\n",
    "        .dropDuplicates([\"merchant\", \"customer\", \"gender\"])\n",
    "    )\n",
    "\n",
    "    # Initialize state if first batch\n",
    "    if gender_summary_df is None:\n",
    "        gender_summary_df = cleaned\n",
    "    else:\n",
    "        gender_summary_df = gender_summary_df.union(cleaned).dropDuplicates([\"merchant\", \"customer\", \"gender\"])\n",
    "\n",
    "    print(f\"✅ Updated gender_summary_df size: {gender_summary_df.count()}\")\n",
    "\n",
    "    # Group & Pivot\n",
    "    gender_counts = (\n",
    "        gender_summary_df\n",
    "        .groupBy(\"merchant\", \"gender\")\n",
    "        .agg(F.countDistinct(\"customer\").alias(\"customer_count\"))\n",
    "    )\n",
    "\n",
    "    pivot = (\n",
    "        gender_counts\n",
    "        .groupBy(\"merchant\")\n",
    "        .pivot(\"gender\", [\"F\", \"M\"])\n",
    "        .sum(\"customer_count\")\n",
    "        .fillna(0)\n",
    "        .withColumnRenamed(\"F\", \"female_count\")\n",
    "        .withColumnRenamed(\"M\", \"male_count\")\n",
    "    )\n",
    "\n",
    "    pivot.show(5, truncate=False)\n",
    "\n",
    "    # Filter\n",
    "    eligible = pivot.filter(\n",
    "        (F.col(\"female_count\") > 100) & (F.col(\"female_count\") < F.col(\"male_count\"))\n",
    "    )\n",
    "\n",
    "    # New merchants only\n",
    "    new_detections = eligible.filter(\n",
    "        ~F.col(\"merchant\").isin(already_detected_pat3)\n",
    "    )\n",
    "\n",
    "    merchants_detected = [row[\"merchant\"] for row in new_detections.collect()]\n",
    "\n",
    "    if merchants_detected:\n",
    "        print(f\"🌟 New detections found: {merchants_detected}\")\n",
    "        now = datetime.now().strftime(\"%Y-%m-%d %H:%M:%S\")\n",
    "\n",
    "        detections_df = (\n",
    "            new_detections\n",
    "            .withColumn(\"YStartTime\", F.current_timestamp())\n",
    "            .withColumn(\"detectionTime\", F.current_timestamp())\n",
    "            .withColumn(\"patternId\", F.lit(\"PatId3\"))\n",
    "            .withColumn(\"ActionType\", F.lit(\"DEI-NEEDED\"))\n",
    "            .withColumn(\"customerName\", F.lit(\"\"))\n",
    "            .withColumn(\"MerchantId\", F.regexp_replace(\"merchant\", \"'\", \"\"))\n",
    "            .select(\"YStartTime\", \"detectionTime\", \"patternId\", \"ActionType\", \"customerName\", \"MerchantId\")\n",
    "        )\n",
    "\n",
    "        detections_df.show(truncate=False)\n",
    "\n",
    "        detections_df.write.jdbc(jdbc_url, \"already_detected_pat3\", mode=\"append\", properties=jdbc_properties)\n",
    "\n",
    "        already_detected_pat3.update(merchants_detected)\n",
    "\n",
    "    else:\n",
    "        print(\"🚫 No new detections this batch.\")\n",
    "\n",
    "\n"
   ]
  },
  {
   "cell_type": "code",
   "execution_count": 0,
   "metadata": {
    "application/vnd.databricks.v1+cell": {
     "cellMetadata": {},
     "inputWidgets": {},
     "nuid": "9e5db2f5-326a-45b2-b2b2-adf76b283d3d",
     "showTitle": false,
     "tableResultSettingsMap": {},
     "title": ""
    }
   },
   "outputs": [],
   "source": [
    "query = (\n",
    "    streaming_df.writeStream\n",
    "    .foreachBatch(foreach_batch_function)\n",
    "    .outputMode(\"append\")\n",
    "    .start()\n",
    ")\n",
    "query.awaitTermination()"
   ]
  }
 ],
 "metadata": {
  "application/vnd.databricks.v1+notebook": {
   "computePreferences": null,
   "dashboards": [],
   "environmentMetadata": {
    "base_environment": "",
    "environment_version": "2"
   },
   "inputWidgetPreferences": null,
   "language": "python",
   "notebookMetadata": {
    "pythonIndentUnit": 4
   },
   "notebookName": "Pattern 3 streaming",
   "widgets": {}
  },
  "language_info": {
   "name": "python"
  }
 },
 "nbformat": 4,
 "nbformat_minor": 0
}
