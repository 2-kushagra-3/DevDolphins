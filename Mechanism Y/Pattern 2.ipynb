{
 "cells": [
  {
   "cell_type": "code",
   "execution_count": 0,
   "metadata": {
    "application/vnd.databricks.v1+cell": {
     "cellMetadata": {},
     "inputWidgets": {},
     "nuid": "71a84883-97dc-4add-bbf6-90195399f6ca",
     "showTitle": false,
     "tableResultSettingsMap": {},
     "title": ""
    }
   },
   "outputs": [],
   "source": [
    "from pyspark.sql import functions as F\n",
    "from pyspark.sql import SparkSession\n",
    "from datetime import datetime\n",
    "# Suppose your Spark DataFrame is called transactions_df\n",
    "transactions_df = spark.read.format(\"csv\").option(\"header\", \"true\").load(\"abfss://gdrive-ingest@devdolphinstorage.dfs.core.windows.net/transactions.csv\")\n",
    "# Step 1: Group by customer and merchant\n",
    "grouped_df = transactions_df.groupBy(\"customer\", \"merchant\").agg(\n",
    "    F.count(\"*\").alias(\"txn_count\"),\n",
    "    F.avg(\"amount\").alias(\"avg_amount\")\n",
    ")\n",
    "\n",
    "# Step 2: Filter on criteria\n",
    "filtered_df = grouped_df.filter(\n",
    "    (F.col(\"txn_count\") >= 80) & (F.col(\"avg_amount\") < 23)\n",
    ")\n",
    "\n",
    "# Step 3: Add detection fields\n",
    "current_time = datetime.now().strftime(\"%Y-%m-%d %H:%M:%S\")\n",
    "\n",
    "detections_df = filtered_df.withColumn(\"YStartTime\", F.lit(current_time)) \\\n",
    "    .withColumn(\"detectionTime\", F.lit(current_time)) \\\n",
    "    .withColumn(\"patternId\", F.lit(\"PatId2\")) \\\n",
    "    .withColumn(\"ActionType\", F.lit(\"CHILD\")) \\\n",
    "    .withColumnRenamed(\"customer\", \"customerName\") \\\n",
    "    .withColumnRenamed(\"merchant\", \"MerchantId\")\n",
    "\n",
    "# Show or save detections\n",
    "detections_df.display()\n"
   ]
  }
 ],
 "metadata": {
  "application/vnd.databricks.v1+notebook": {
   "computePreferences": null,
   "dashboards": [],
   "environmentMetadata": {
    "base_environment": "",
    "environment_version": "2"
   },
   "inputWidgetPreferences": null,
   "language": "python",
   "notebookMetadata": {
    "pythonIndentUnit": 4
   },
   "notebookName": "Pattern 2",
   "widgets": {}
  },
  "language_info": {
   "name": "python"
  }
 },
 "nbformat": 4,
 "nbformat_minor": 0
}
